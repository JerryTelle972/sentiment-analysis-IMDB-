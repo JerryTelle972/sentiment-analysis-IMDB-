{
 "metadata": {
  "language_info": {
   "codemirror_mode": {
    "name": "ipython",
    "version": 3
   },
   "file_extension": ".py",
   "mimetype": "text/x-python",
   "name": "python",
   "nbconvert_exporter": "python",
   "pygments_lexer": "ipython3",
   "version": "3.8.3-final"
  },
  "orig_nbformat": 2,
  "kernelspec": {
   "name": "python3",
   "display_name": "Python 3"
  }
 },
 "nbformat": 4,
 "nbformat_minor": 2,
 "cells": [
  {
   "source": [
    "# SENTIMENTS ANALYSIS (IMBD)\n",
    "par **Jerry TELLE** | **Zakaria ABID**                     \n",
    " jerrytelle@gmail.com\n",
    "\n",
    "\n",
    "## Contexte :\n",
    "\n",
    "On souhaite apprendre un modèle de **régression logistique** pour répondre à une\n",
    "problématique de **sentiment analysis** sur des critiques de films. Il s’agit donc d’une\n",
    "problématique de **classification binaire** sur des données textuelles. Les données\n",
    "pour entraîner et tester notre modèle sont issues du site **IMDB** et peuvent être\n",
    "récupérées sous la forme de fichiers textes depuis le site de **Stanford** .\n",
    "\n",
    "**Datasets :** [http ://ai.stanford.edu/ amaas/data/sentiment/]"
   ],
   "cell_type": "markdown",
   "metadata": {}
  },
  {
   "source": [
    "## 1.Importer les modules"
   ],
   "cell_type": "markdown",
   "metadata": {}
  },
  {
   "cell_type": "code",
   "execution_count": 1,
   "metadata": {},
   "outputs": [],
   "source": [
    "import pickle                                                   #Permet  Lecture des données binaires\n",
    "import random                                                   #Permet la génération de nombres aléatoires\n",
    "from colorama import Fore, Back, Style                          #Pemet de changer la police de couleurs\n"
   ]
  },
  {
   "source": [
    "## 2.Chargement des données et visualisations"
   ],
   "cell_type": "markdown",
   "metadata": {}
  },
  {
   "cell_type": "code",
   "execution_count": 8,
   "metadata": {},
   "outputs": [
    {
     "output_type": "stream",
     "name": "stdout",
     "text": [
      "Le datastet critique positive contient : 12500 observations\n   \nLe datastet critique négative contient : 12500 observations\n"
     ]
    }
   ],
   "source": [
    "# Chargement du datasets et enregistrment des variables : data_neg = critique négative | data_pos = critique positive\n",
    "\n",
    "def read_data(d_pos,d_neg,mode):\n",
    "    with open(d_pos,mode)as files:\n",
    "        data_pos = pickle.load(files)\n",
    "    with open(d_neg,mode)as files:\n",
    "        data_neg = pickle.load(files)\n",
    "    return print(\"Le datastet critique positive contient : \" + str(len(data_pos)) + \" observations\"+ \"\\n   \\n\"+\"Le datastet critique négative contient : \" + str(len(data_neg)) + \" observations\")\n",
    "     \n",
    "read_data(\"imdb_raw_pos.pickle\",\"imdb_raw_neg.pickle\",\"rb\")"
   ]
  },
  {
   "cell_type": "code",
   "execution_count": 4,
   "metadata": {},
   "outputs": [
    {
     "output_type": "stream",
     "name": "stdout",
     "text": [
      "\u001b[31mAffiche la critique positive 4273 :\n\u001b[0m\nThere is only one film I can think of that might be as good or better than this one when it comes to Bugs Bunny and Daffy Duck--ALI BABA BUNNY. However, determining which is THE best is irrelevant--just watch them both and enjoy.<br /><br />I compared this to ALI BABA BUNNY because both feature Daffy at his absolute worst--greedy, nasty and very funny in the process. However, I think I prefer RABBIT SEASONING simply because Bugs is also pretty awful in this one--doing horrible things right back to Daffy every time Daffy tries a dirty trick.<br /><br />The film begins with Daffy leaving rabbit tracks right up to Bugs' hole in the hope that a hunter (naturally, it's Elmer) will blast the rabbit and leave Daffy alone! Not to be outdone, Bugs time and again takes all of Daffy's tricks and turns them around--and in most cases it involves Daffy getting shot in the face! It's all very, very clever and funny and I don't care how old you are, this cartoon will make you laugh unless you are a grouch. I especially love the great and unexpected ending, but I won't say more, as I don't want to spoil the surprise.\n\n  \n\n\u001b[31mAffiche la critique negative 5568 :\n\u001b[0m\nI bought \"Rocketship X-M\" on DVD in a two-pack with \"Destination Moon.\" Now I see why the distributors did that: no one who had ever seen this movie would buy it on its own.<br /><br />I cannot fathom what school system turned out the reviewer who claimed that RXM is \"great in its predictions of how space travel would take place...\" Launch straight up, and then do a 90-degree right turn and circle faster and faster until you reach escape velocity... I don't think I recall that from the Apollo program. Never mind that the astronauts should be weightless once they shut off the engines, gravity changes directions every time they pass through the hatch to the engine room. Going to the moon, but \"missed\" it? No problem, it's just a hop-skip-and-a-jump (with a helping hand from divine providence) and you'll be at Mars! And OK, if you want to put life on Mars, given the state of planetary knowledge in 1950, it was a forgivable convention for the sake of the storytelling, but can you make them look at least a LITTLE alien? These Martians looked like extras from the cast of \"10,000 B.C.\" I can accept some scientific mistakes, but this wouldn't pass muster with an above-average second-grader.<br /><br />And that's aside from the screaming plot holes: 12 minutes before launch (as you're reminded of constantly by the nagging P.A. voice saying \"X minus so many minutes\") the astronauts are giving a press conference! I guess the time crunch is why Dr. Eckstrom didn't change out of his coat and tie before launching into space. And how handy that, even though they were planning to go to the moon and had pressure suits for that, they brought hiking gear (and rifles!) just in case they ended up at Mars. They're lucky they landed anywhere, since apparently the method they had developed for landing was to have Dr.E look out the window and tell the \"pilot\" (Lloyd Bridges) to tweak down the throttles every now and then. Note to the designers of the XM-2: how about giving the pilot a window seat? <br /><br />Ditto the previous comments on the casual sexism that had eye-candy Dr. Lisa (Osa Massen) doom them all by repeatedly screwing up her fuel calculations, but hey that was the early '50s. She was there to fill her sweater, not a useful function.<br /><br />\"Rocketship X-M\" is notable for being one of the first of the first films to say \"ohmigod we're all going to blow ourselves up with these here A-bombs\", but one can note that about it without wasting 77 minutes watching such dreck. By the way, that message might have had a bit more impact had there been some money in the budget for actual sets of the Martian city ruins, rather than just matte paintings.<br /><br />I can appreciate \"good\" bad sci-fi, for the unique way the \"future\" used to look, and for the inherent (if condescending) humor you can find when when we look back on the naivety of audiences 60 years ago, but this film must have been insulting even then. \"Rocketship X-M\" isn't even suitable for an MST3K-style lampooning. Sometimes, bad is just... bad.<br /><br />Anybody want to buy a DVD? Used only once, I swear.\n"
     ]
    }
   ],
   "source": [
    "# Lecture d'une lecture positive et negative de façon aléatoire\n",
    "\n",
    "\n",
    "a = random.randint(0, 12500)\n",
    "b = random.randint(0, 12500)\n",
    "print (Fore.RED  + \"Affiche la critique positive \" + str(a) + \" :\")\n",
    "print(Style.RESET_ALL)\n",
    "print( data_pos[a] )\n",
    "print (\"\\n  \\n\")\n",
    "print (Fore.RED +\"Affiche la critique negative \" + str(b) + \" :\")\n",
    "print(Style.RESET_ALL)\n",
    "print( data_neg[b])\n"
   ]
  },
  {
   "source": [
    "## 3.Prétraitements des données \n"
   ],
   "cell_type": "markdown",
   "metadata": {}
  },
  {
   "source": [
    "L'objectif de cette étape c'est de nettoyer les données avant de charger notre modèle.  "
   ],
   "cell_type": "markdown",
   "metadata": {}
  },
  {
   "cell_type": "code",
   "execution_count": 6,
   "metadata": {},
   "outputs": [
    {
     "output_type": "execute_result",
     "data": {
      "text/plain": [
       "12500"
      ]
     },
     "metadata": {},
     "execution_count": 6
    }
   ],
   "source": [
    "len(data_pos)"
   ]
  },
  {
   "cell_type": "code",
   "execution_count": null,
   "metadata": {},
   "outputs": [],
   "source": []
  }
 ]
}