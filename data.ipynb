{
 "metadata": {
  "language_info": {
   "codemirror_mode": {
    "name": "ipython",
    "version": 3
   },
   "file_extension": ".py",
   "mimetype": "text/x-python",
   "name": "python",
   "nbconvert_exporter": "python",
   "pygments_lexer": "ipython3",
   "version": "3.8.3-final"
  },
  "orig_nbformat": 2,
  "kernelspec": {
   "name": "python3",
   "display_name": "Python 3"
  }
 },
 "nbformat": 4,
 "nbformat_minor": 2,
 "cells": [
  {
   "source": [
    "# SENTIMENTS ANALYSIS (IMBD)\n",
    "par **Jerry TELLE** | **Zakaria ABID**                     \n",
    " [jerrytelle@gmail.com]\n",
    "\n",
    "\n",
    "## Contexte :\n",
    "\n",
    "On souhaite apprendre un modèle de **régression logistique** pour répondre à une\n",
    "problématique de **sentiment analysis** sur des critiques de films. Il s’agit donc d’une\n",
    "problématique de **classification binaire** sur des données textuelles. Les données\n",
    "pour entraîner et tester notre modèle sont issues du site **IMDB** et peuvent être\n",
    "récupérées sous la forme de fichiers textes depuis le site de **Stanford** .\n",
    "\n",
    "**Datasets :** [http ://ai.stanford.edu/ amaas/data/sentiment/]"
   ],
   "cell_type": "markdown",
   "metadata": {}
  },
  {
   "source": [
    "## 1.Importer les modules"
   ],
   "cell_type": "markdown",
   "metadata": {}
  },
  {
   "cell_type": "code",
   "execution_count": 37,
   "metadata": {},
   "outputs": [],
   "source": [
    "import pickle                                                   #Permet  Lecture des données binaires\n",
    "import random                                                   #Permet la génération de nombres aléatoires\n",
    "from colorama import Fore, Back, Style                          #Pemet de changer la police de couleurs\n"
   ]
  },
  {
   "source": [
    "## 2.Chargement des données et visualisations"
   ],
   "cell_type": "markdown",
   "metadata": {}
  },
  {
   "cell_type": "code",
   "execution_count": 35,
   "metadata": {},
   "outputs": [
    {
     "output_type": "stream",
     "name": "stdout",
     "text": [
      "Le datastet critique positive contient : 12500 observations\nLe datastet critique négative contient : 12500 observations\n"
     ]
    }
   ],
   "source": [
    "# Chargement du datasets et enregistrment des variables : data_neg = critique négative | data_pos = critique positive\n",
    "\n",
    "\n",
    "with open (\"imdb_raw_neg.pickle\",'rb')as files:\n",
    "    data_neg = pickle.load(files)\n",
    "\n",
    "with open (\"imdb_raw_pos.pickle\",'rb') as files:\n",
    "    data_pos = pickle.load(files)    \n",
    "\n",
    "print(\"Le datastet critique positive contient : \" + str(len(data_pos)) + \" observations\")\n",
    "print(\"Le datastet critique négative contient : \" + str(len(data_neg)) + \" observations\")"
   ]
  },
  {
   "cell_type": "code",
   "execution_count": 46,
   "metadata": {},
   "outputs": [
    {
     "output_type": "stream",
     "name": "stdout",
     "text": [
      "\u001b[31mAffiche la critique positive 637 :\n\u001b[0m\nIt is always difficult to bring a 450 pages book down to a three hours film. I read the book before, and I found the BBC production dealing with this difficulty in the best way possible. The qualities of the book haven't been lost: the dense and lively depiction of a fingersmith patchwork family in London in the 1860s, the cold and obscene cruelty in which Maud is brought up, the characterization of different social groups by different ways of speaking, the unexpected and surprising twists of the story, the way the film makes the spectators look different at the same scenes when they are told first from Sue's point of view then from Maud's one. The main actors do very good, and especially the growing love between the two women is convincingly developed, with a first culmination in a very tender love scene between the two and finally forgiving all the evil they were ready to do and did to each other, because they still love each other.<br /><br />For each of her books the author, Sarah Waters, has thoroughly investigated what life was like in British 19th century. While in Tipping the Velvet it was the world of the vaudeville theaters and the beginning of social movements, in Affinity the dreadful reality of women penitentiaries and the fashionable evocation of spirits, in Fingersmith she depicts the public ceremony of hanging people in London and the inhuman treatment of persons supposed or declared disturbed in asylums based on the reading of sources and scientific research. This is very well transferred to the film so that the corresponding scenes show a high grade of historic truth. I highly recommend this film production because it offers three hours of colorful Victorian atmosphere, vivid emotions, and suspense.\n\n  \n\n\u001b[31mAffiche la critique negative 8199 :\n\u001b[0m\nI have been a fan of the Carpenters for a long time, read the biography, watched the specials, and saw the Karen Carpenter Story. This movie really didn't show the real Karen Carpenter. In the movie she seems to be a shy and a pretty much of loner (except for one girl friend). The real Karen Carpenter was much different. She was outgoing and friendly. She had lots of friends, especially Olive Newton-John. The movie doesn't even show Karen's attempts for a solo album and her meeting Phil Ramone and his wife Itchy \"Karen\". Itchy knew the real Karen Carpenter in New York. When Karen was in New York, she did see a psychologist, but it was voluntary and once a day and then she would leave to go to her hotel room. Also, Karen was taking pills to increase her thyroid, so she could loss weight, but stop taking them because the psychologist recommended her not too. Also, the Karen's husband in the movie is named Bob Knight, but in real life was named Tom Burris. Also, Karen wasn't divorced from Tom, but only separated. Karen was to sign the divorce papers on the day she died. Also, Agnes found Karen naked in the closet unciousness, unlike in the movie where she was dressed in white. The music was very good. That was the only thing I would recommend on seeing it.\n"
     ]
    }
   ],
   "source": [
    "# Lecture d'une lecture positive et negative de façon aléatoire\n",
    "\n",
    "\n",
    "a = random.randint(0, 12500)\n",
    "b = random.randint(0, 12500)\n",
    "print (Fore.RED  + \"Affiche la critique positive \" + str(a) + \" :\")\n",
    "print(Style.RESET_ALL)\n",
    "print( data_pos[a] )\n",
    "print (\"\\n  \\n\")\n",
    "print (Fore.RED +\"Affiche la critique negative \" + str(b) + \" :\")\n",
    "print(Style.RESET_ALL)\n",
    "print( data_neg[b])\n"
   ]
  },
  {
   "source": [
    "## 3.Prétraitements des données \n"
   ],
   "cell_type": "markdown",
   "metadata": {}
  },
  {
   "cell_type": "code",
   "execution_count": null,
   "metadata": {},
   "outputs": [],
   "source": []
  }
 ]
}