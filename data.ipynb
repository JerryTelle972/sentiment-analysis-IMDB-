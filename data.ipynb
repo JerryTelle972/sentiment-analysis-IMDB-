{
 "metadata": {
  "language_info": {
   "codemirror_mode": {
    "name": "ipython",
    "version": 3
   },
   "file_extension": ".py",
   "mimetype": "text/x-python",
   "name": "python",
   "nbconvert_exporter": "python",
   "pygments_lexer": "ipython3",
   "version": "3.8.3-final"
  },
  "orig_nbformat": 2,
  "kernelspec": {
   "name": "python3",
   "display_name": "Python 3"
  }
 },
 "nbformat": 4,
 "nbformat_minor": 2,
 "cells": [
  {
   "source": [
    "# SENTIMENTS ANALYSIS (IMBD)\n",
    "par **Jerry TELLE** | **Zakaria ABID**                     \n",
    " [jerrytelle@gmail.com]\n",
    "\n",
    "\n",
    "## Contexte :\n",
    "\n",
    "On souhaite apprendre un modèle de **régression logistique** pour répondre à une\n",
    "problématique de **sentiment analysis** sur des critiques de films. Il s’agit donc d’une\n",
    "problématique de **classification binaire** sur des données textuelles. Les données\n",
    "pour entraîner et tester notre modèle sont issues du site **IMDB** et peuvent être\n",
    "récupérées sous la forme de fichiers textes depuis le site de **Stanford** .\n",
    "\n",
    "**Datasets :** [http ://ai.stanford.edu/ amaas/data/sentiment/]"
   ],
   "cell_type": "markdown",
   "metadata": {}
  },
  {
   "source": [
    "## Importer les modules"
   ],
   "cell_type": "markdown",
   "metadata": {}
  },
  {
   "cell_type": "code",
   "execution_count": 37,
   "metadata": {},
   "outputs": [],
   "source": [
    "import pickle                                                   #Permet  Lecture des données binaires\n",
    "import random                                                   #Permet la génération de nombres aléatoires\n",
    "from colorama import Fore, Back, Style                          #Pemet de changer la police de couleurs\n"
   ]
  },
  {
   "cell_type": "code",
   "execution_count": 35,
   "metadata": {},
   "outputs": [
    {
     "output_type": "stream",
     "name": "stdout",
     "text": [
      "Le datastet critique positive contient : 12500 observations\nLe datastet critique négative contient : 12500 observations\n"
     ]
    }
   ],
   "source": [
    "# Chargement du datasets et enregistrment des variables : data_neg = critique négative | data_pos = critique positive\n",
    "\n",
    "\n",
    "with open (\"imdb_raw_neg.pickle\",'rb')as files:\n",
    "    data_neg = pickle.load(files)\n",
    "\n",
    "with open (\"imdb_raw_pos.pickle\",'rb') as files:\n",
    "    data_pos = pickle.load(files)    \n",
    "\n",
    "print(\"Le datastet critique positive contient : \" + str(len(data_pos)) + \" observations\")\n",
    "print(\"Le datastet critique négative contient : \" + str(len(data_neg)) + \" observations\")"
   ]
  },
  {
   "cell_type": "code",
   "execution_count": 42,
   "metadata": {},
   "outputs": [
    {
     "output_type": "stream",
     "name": "stdout",
     "text": [
      "\u001b[31mAffiche la critique positive 9031 :\n\u001b[0m\nThis is one of the funniest movies I have ever seen. This, in my opinion, is Rob Lowe at his best. I'm not quite sure why this film has gotten such a low rating. I guess you either love it or hate it, but if nothing else, it is definitely worth a rental.\n\n ********************************************************************************************************************** \n\n\u001b[31mAffiche la critique negative 1566 :\n\u001b[0m\nI watched about the first 30 - 40 minutes of this movie on television the other night and can agree that this is by far the worst of the series. Not any of it is funny, even Randy Quaid can't save this mess. Eric Idle wasn't funny in N.L. Euro. Vacation, and he's even worse here. The only funny scene is where they're at the airport and some guy dressed as Santa walks by the camera yelling \"Did anybody lose this?\" as he holds up a prosthetic leg...<br /><br />1/2 a star out of ****\n"
     ]
    }
   ],
   "source": [
    "# Lecture d'une lecture positive et negative de façon aléatoire\n",
    "\n",
    "\n",
    "a = random.randint(0, 12500)\n",
    "b = random.randint(0, 12500)\n",
    "print (Fore.RED  + \"Affiche la critique positive \" + str(a) + \" :\")\n",
    "print(Style.RESET_ALL)\n",
    "#print (\"\\n ********************************************************************************************************************** \\n\")\n",
    "print( data_pos[a] )\n",
    "print (\"\\n ********************************************************************************************************************** \\n\")\n",
    "print (Fore.RED +\"Affiche la critique negative \" + str(b) + \" :\")\n",
    "print(Style.RESET_ALL)\n",
    "#print (\"\\n ********************************************************************************************************************** \\n\")\n",
    "print( data_neg[b])\n"
   ]
  },
  {
   "cell_type": "code",
   "execution_count": null,
   "metadata": {},
   "outputs": [],
   "source": []
  }
 ]
}